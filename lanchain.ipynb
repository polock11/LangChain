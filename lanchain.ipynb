{
 "cells": [
  {
   "cell_type": "markdown",
   "metadata": {},
   "source": [
    "## Access LLM"
   ]
  },
  {
   "cell_type": "code",
   "execution_count": null,
   "metadata": {},
   "outputs": [
    {
     "data": {
      "text/plain": [
       "\"Not much from my end. How about you? What's on your mind today? Want to chat about something in particular or just see where the conversation goes? I'm all ears!\""
      ]
     },
     "execution_count": 2,
     "metadata": {},
     "output_type": "execute_result"
    }
   ],
   "source": [
    "from langchain_community.chat_models import ChatOllama\n",
    "\n",
    "model = ChatOllama(model = 'llama3.1')\n",
    "\n",
    "result = model.invoke('Hi, Whats up?')\n",
    "\n",
    "result.content "
   ]
  },
  {
   "cell_type": "markdown",
   "metadata": {},
   "source": [
    "## Real Time Conversation"
   ]
  },
  {
   "cell_type": "code",
   "execution_count": null,
   "metadata": {},
   "outputs": [],
   "source": [
    "from langchain_community.chat_models import ChatOllama\n",
    "from langchain.schema import AIMessage, SystemMessage, HumanMessage\n",
    "\n",
    "model = ChatOllama(model='llama3.1')\n",
    "\n",
    "chat_history = []\n",
    "\n",
    "system_msg = SystemMessage(content='You are a helpful AI assistant')\n",
    "chat_history.append(system_msg)\n",
    "\n",
    "while True:\n",
    "    query = input(\"You: \")\n",
    "    if query.lower() == 'exit':\n",
    "        break\n",
    "\n",
    "    print(f\"You: {query}\")    \n",
    "    chat_history.append(HumanMessage(content=query.lower()))\n",
    "    \n",
    "    result = model.invoke(chat_history)\n",
    "    response = result.content\n",
    "\n",
    "    chat_history.append(AIMessage(content=response))\n",
    "    print(f\"AI: {response}\")\n",
    "\n",
    "\n",
    "print('-----Message history-----')\n",
    "print(chat_history)"
   ]
  },
  {
   "cell_type": "markdown",
   "metadata": {},
   "source": [
    "## Prompt Templates"
   ]
  },
  {
   "cell_type": "code",
   "execution_count": 6,
   "metadata": {},
   "outputs": [
    {
     "data": {
      "text/plain": [
       "ChatPromptValue(messages=[HumanMessage(content='Tell me a joke about cats', additional_kwargs={}, response_metadata={})])"
      ]
     },
     "execution_count": 6,
     "metadata": {},
     "output_type": "execute_result"
    }
   ],
   "source": [
    "from langchain.prompts import ChatPromptTemplate\n",
    "from langchain_core.messages import HumanMessage\n",
    "\n",
    "template = \"Tell me a joke about {topic}\"\n",
    "prompt_template = ChatPromptTemplate.from_template(template)\n",
    "\n",
    "prompt = prompt_template.invoke({'topic':'cats'})\n",
    "prompt"
   ]
  },
  {
   "cell_type": "code",
   "execution_count": 11,
   "metadata": {},
   "outputs": [
    {
     "data": {
      "text/plain": [
       "ChatPromptValue(messages=[HumanMessage(content='Make a short story about a fish', additional_kwargs={}, response_metadata={})])"
      ]
     },
     "execution_count": 11,
     "metadata": {},
     "output_type": "execute_result"
    }
   ],
   "source": [
    "from langchain.prompts import ChatPromptTemplate\n",
    "from langchain.schema import HumanMessage\n",
    "\n",
    "template = \"\"\"Make a {story_type} about a {topic}\"\"\"\n",
    "prompt_template = ChatPromptTemplate.from_template(template)\n",
    "\n",
    "prompt = prompt_template.invoke({\n",
    "    'story_type' : 'short story',\n",
    "    \"topic\" : 'fish'\n",
    "})\n",
    "prompt\n"
   ]
  },
  {
   "cell_type": "code",
   "execution_count": 13,
   "metadata": {},
   "outputs": [
    {
     "data": {
      "text/plain": [
       "ChatPromptValue(messages=[SystemMessage(content='you are a science teacher', additional_kwargs={}, response_metadata={}), HumanMessage(content='tell me about earth\"s rotation', additional_kwargs={}, response_metadata={})])"
      ]
     },
     "execution_count": 13,
     "metadata": {},
     "output_type": "execute_result"
    }
   ],
   "source": [
    "from langchain.prompts import ChatPromptTemplate\n",
    "\n",
    "messages = [\n",
    "    ('system', 'you are a science teacher'),\n",
    "    ('human', 'tell me about {topic}')\n",
    "]\n",
    "\n",
    "prompt_template = ChatPromptTemplate.from_messages(messages)\n",
    "prompt = prompt_template.invoke({'topic': 'earth\"s rotation'})\n",
    "prompt\n"
   ]
  },
  {
   "cell_type": "markdown",
   "metadata": {},
   "source": [
    "## Prompt Template with ChatModels"
   ]
  },
  {
   "cell_type": "code",
   "execution_count": null,
   "metadata": {},
   "outputs": [
    {
     "name": "stdout",
     "output_type": "stream",
     "text": [
      "-----------First Prompt--------------\n",
      "Dogs! Our loyal, lovable, and loyal companions. Here's a comprehensive overview:\n",
      "\n",
      "**Origin**\n",
      "\n",
      "The domestication of dogs is believed to have occurred around 15,000 to 30,000 years ago, when humans first began to keep wolves as pets or hunting partners. Over time, through selective breeding, these early canine companions evolved into the diverse range of breeds we see today.\n",
      "\n",
      "**Physical Characteristics**\n",
      "\n",
      "Dogs come in a wide variety of shapes and sizes, with over 340 recognized breeds worldwide. They can be divided into several categories:\n",
      "\n",
      "1. **Small**: Chihuahuas, Poodles, and Pugs\n",
      "2. **Medium**: Cocker Spaniels, Beagles, and Collies\n",
      "3. **Large**: Labradors, German Shepherds, and Rottweilers\n",
      "4. **Giant**: Great Danes, Irish Wolfhounds, and Mastiffs\n",
      "\n",
      "Dogs have a number of distinctive physical features, including:\n",
      "\n",
      "* A keen sense of smell (thanks to their highly developed olfactory system)\n",
      "* Ears that can rotate 180 degrees for better hearing\n",
      "* Whiskers (vibrissae) around the mouth for navigation in dark environments\n",
      "* Claws for traction and grip\n",
      "* Teeth adapted for eating, biting, and tearing\n",
      "\n",
      "**Behavior**\n",
      "\n",
      "Dogs are social animals that thrive on interaction with their human pack. They have a unique ability to read body language and respond accordingly.\n",
      "\n",
      "Some common behaviors exhibited by dogs include:\n",
      "\n",
      "1. **Loyalty**: Dogs are fiercely loyal to their family members.\n",
      "2. **Playfulness**: Dogs love to play, run around, and engage in physical activities.\n",
      "3. **Affection**: Many breeds of dogs are affectionate and enjoy being petted or cuddled.\n",
      "4. **Protectiveness**: Some dogs have a strong instinct to protect their territory and loved ones.\n",
      "\n",
      "**Types of Dog Breeds**\n",
      "\n",
      "There are several categories of dog breeds:\n",
      "\n",
      "1. **Sporting Dogs**: Bred for hunting, such as Labradors and Golden Retrievers\n",
      "2. **Herding Dogs**: Designed for herding livestock, like Collies and Corgis\n",
      "3. **Working Dogs**: Trained for tasks such as guarding, police work, or search and rescue, including German Shepherds and Rottweilers\n",
      "4. **Toy Dogs**: Small dogs kept as companions, often in apartments or small homes, like Chihuahuas and Poodles\n",
      "\n",
      "**Health**\n",
      "\n",
      "Dogs are prone to various health issues, some of which include:\n",
      "\n",
      "1. **Hip dysplasia**: A genetic condition affecting the hip joint.\n",
      "2. **Eye problems**: Conditions such as cataracts, progressive retinal atrophy, or cherry eye.\n",
      "3. **Obesity**: Excess weight can lead to a range of health problems in dogs.\n",
      "\n",
      "**Training**\n",
      "\n",
      "Dogs are highly trainable animals that respond well to positive reinforcement and consistency. They can be taught basic commands like \"sit,\" \"stay,\" and \"come,\" as well as more complex tasks like agility, obedience, or even performing tricks.\n",
      "\n",
      "**Domestication Benefits**\n",
      "\n",
      "The domestication of dogs has brought numerous benefits to humans:\n",
      "\n",
      "1. **Companionship**: Dogs provide emotional support, affection, and companionship.\n",
      "2. **Protection**: Some breeds are naturally protective of their territory and loved ones.\n",
      "3. **Assistance**: Trained dogs can assist people with disabilities or medical conditions.\n",
      "\n",
      "Overall, dogs have become an integral part of human society, offering a wide range of benefits to those who care for them.\n",
      "-----------Second Prompt--------------\n",
      "Zero! The humble hero of mathematics. Here are three interesting facts about zero:\n",
      "\n",
      "1. **The concept of zero was not always accepted**: In ancient civilizations, such as the Babylonians and Greeks, there was no concept of a true \"zero\". They used symbols like (-) or ( empty space ) to indicate the absence of a quantity, but it wasn't until the development of Hindu-Arabic numerals in the 7th century that zero became a distinct number. It's fascinating to think about how mathematics and calculations would have been vastly different without this crucial innovation!\n",
      "2. **Zero has its own unique mathematical properties**: Zero is not just a placeholder, but a legitimate number with its own arithmetic rules. For example, any number multiplied by zero results in... you guessed it! ...zero. This property makes zero a fundamental building block of algebra and mathematics as a whole.\n",
      "3. **The word \"zero\" comes from the Arabic word for \"empty\"**: The word \"zero\" has its roots in ancient Arabic numerals (c. 700-1200 CE). In Arabic, the word is \"sifr\", which roughly translates to \"empty\" or \"void\". This term was later adapted into Latin as \"zephirum\", and eventually became known to us today as \"zero\".\n",
      "\n",
      "I hope these facts spark some math-tastic interest in you!\n"
     ]
    }
   ],
   "source": [
    "from langchain_community.chat_models import ChatOllama\n",
    "from langchain_core.prompts import ChatPromptTemplate\n",
    "\n",
    "model = ChatOllama(model='llama3.1')\n",
    "\n",
    "template = 'Tell me about {topic}'\n",
    "prompt_template = ChatPromptTemplate.from_template(template)\n",
    "\n",
    "prompt = prompt_template.invoke({'topic':'dog'})\n",
    "\n",
    "response = model.invoke(prompt)\n",
    "print(\"-----------First Prompt--------------\")\n",
    "print(response.content)\n",
    "\n",
    "\n",
    "messages = [\n",
    "    ('system', 'you are a {subject} teacher'),\n",
    "    ('human', 'tell {number} interesting fact about {topic}')\n",
    "]\n",
    "\n",
    "tem = ChatPromptTemplate.from_messages(messages=messages)\n",
    "prompt_2 = tem.invoke({\n",
    "    'subject': 'math',\n",
    "    'number': '3',\n",
    "    'topic':'zero'\n",
    "})\n",
    "\n",
    "res2 = model.invoke(prompt_2)\n",
    "print(\"-----------Second Prompt--------------\")\n",
    "print(res2.content)\n"
   ]
  },
  {
   "cell_type": "markdown",
   "metadata": {},
   "source": [
    "## All with Chains"
   ]
  },
  {
   "cell_type": "code",
   "execution_count": 28,
   "metadata": {},
   "outputs": [
    {
     "name": "stdout",
     "output_type": "stream",
     "text": [
      "Mitocondria! The tiny powerhouses of the cell!\n",
      "\n",
      "Mitocondria (singular: Mitochondrion) are organelles found in eukaryotic cells. They're responsible for generating most of the energy that cells need to function, through a process called cellular respiration.\n",
      "\n",
      "Here's what you need to know:\n",
      "\n",
      "**Functions:**\n",
      "\n",
      "1. Energy production: Mitocondria produce ATP (adenosine triphosphate), which is the cell's primary source of energy.\n",
      "2. Cellular metabolism: They're involved in the breakdown of glucose and fatty acids, producing energy-rich molecules like NADH and FADH2.\n",
      "\n",
      "**Structure:**\n",
      "\n",
      "A Mitochondrion has:\n",
      "\n",
      "1. Outer membrane: A double-layered lipid membrane that surrounds the organelle.\n",
      "2. Inter-membrane space: The area between the outer and inner membranes.\n",
      "3. Inner membrane: A highly folded, cristae-rich surface where energy production occurs.\n",
      "4. Matrix: The gel-like substance inside the mitochondrion where ATP is produced.\n",
      "\n",
      "**Interesting facts:**\n",
      "\n",
      "1. Mitochondria have their own DNA (mtDNA), separate from the cell's nuclear DNA!\n",
      "2. They're inherited solely from your mother, due to the egg cell containing more mtDNA than sperm cells.\n",
      "3. In humans, an average cell has around 2000 mitochondria!\n",
      "\n",
      "Now, go forth and conquer this topic! Do you have any specific questions about Mitochondria?\n"
     ]
    }
   ],
   "source": [
    "from langchain_community.chat_models import ChatOllama\n",
    "from langchain.prompts import ChatPromptTemplate\n",
    "from langchain_core.output_parsers import StrOutputParser\n",
    "\n",
    "\n",
    "\n",
    "seed = 42, # generate same response for same prompt\n",
    "temperature = 0.75 # between 0 to 1, increasing temp will increase creativity of the model\n",
    "top_k = 50 # higher value will give more diverse answer\n",
    "verbose = False\n",
    "\n",
    "\n",
    "model = ChatOllama(model='llama3.1', seed=seed, top_k=top_k, temperature=temperature, verbose=verbose)\n",
    "\n",
    "messages = [\n",
    "    ('system', 'You are a helpful {subject} teacher, don\"t produce any verbose'),\n",
    "    ('human', 'Tell me about {topic}')\n",
    "]\n",
    "\n",
    "prompt = ChatPromptTemplate.from_messages(messages=messages)\n",
    "\n",
    "chain = prompt | model | StrOutputParser()\n",
    "\n",
    "params = {\n",
    "    'subject' : 'Biology',\n",
    "    'topic' : 'Mitocondria'\n",
    "}\n",
    "\n",
    "result = chain.invoke(params)\n",
    "\n",
    "print(result)"
   ]
  }
 ],
 "metadata": {
  "kernelspec": {
   "display_name": "rvenv",
   "language": "python",
   "name": "python3"
  },
  "language_info": {
   "codemirror_mode": {
    "name": "ipython",
    "version": 3
   },
   "file_extension": ".py",
   "mimetype": "text/x-python",
   "name": "python",
   "nbconvert_exporter": "python",
   "pygments_lexer": "ipython3",
   "version": "3.11.4"
  }
 },
 "nbformat": 4,
 "nbformat_minor": 2
}
